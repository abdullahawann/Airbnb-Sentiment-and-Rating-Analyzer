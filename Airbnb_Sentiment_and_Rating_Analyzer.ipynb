{
  "nbformat": 4,
  "nbformat_minor": 0,
  "metadata": {
    "colab": {
      "provenance": []
    },
    "kernelspec": {
      "name": "python3",
      "display_name": "Python 3"
    },
    "language_info": {
      "name": "python"
    }
  },
  "cells": [
    {
      "cell_type": "code",
      "source": [
        "# Import necessary libraries\n",
        "import numpy as np\n",
        "import pandas as pd\n",
        "from sklearn.model_selection import train_test_split\n",
        "from sklearn.feature_extraction.text import CountVectorizer\n",
        "from sklearn.naive_bayes import MultinomialNB\n",
        "from sklearn.linear_model import LogisticRegression\n",
        "from sklearn.svm import SVC\n",
        "from sklearn.ensemble import VotingClassifier\n",
        "from sklearn.metrics import accuracy_score\n",
        "\n",
        "# Load the dataset\n",
        "data = pd.read_csv('/content/Abnb_paris.csv')"
      ],
      "metadata": {
        "id": "3SavlpiQD8S7"
      },
      "execution_count": null,
      "outputs": []
    },
    {
      "cell_type": "code",
      "execution_count": null,
      "metadata": {
        "id": "ka9PIty1_rTs"
      },
      "outputs": [],
      "source": [
        "# Preprocessing: Convert labels to numerical values (0 for negative, 1 for positive)\n",
        "data['sentiment'] = data['sentiment'].map({'negative': 0, 'positive': 1})"
      ]
    },
    {
      "cell_type": "code",
      "source": [
        "# Split the dataset into training and testing sets\n",
        "X_train, X_test, y_train, y_test = train_test_split(data['review_text'], data['sentiment'], test_size=0.2, random_state=42)"
      ],
      "metadata": {
        "id": "JUz5U8geEE7g"
      },
      "execution_count": null,
      "outputs": []
    },
    {
      "cell_type": "code",
      "source": [
        "print(y_train.isnull().sum())"
      ],
      "metadata": {
        "colab": {
          "base_uri": "https://localhost:8080/"
        },
        "id": "stEvYntWD_SQ",
        "outputId": "85b644b4-87a4-45f6-f2dd-7306fdb08b66"
      },
      "execution_count": null,
      "outputs": [
        {
          "output_type": "stream",
          "name": "stdout",
          "text": [
            "52\n"
          ]
        }
      ]
    },
    {
      "cell_type": "code",
      "source": [
        "X_train = X_train.dropna()\n",
        "y_train = y_train.dropna()"
      ],
      "metadata": {
        "id": "C4vbohQdECSQ"
      },
      "execution_count": null,
      "outputs": []
    },
    {
      "cell_type": "code",
      "source": [
        "print(y_train.isnull().sum())\n",
        "print(X_train.isnull().sum())"
      ],
      "metadata": {
        "colab": {
          "base_uri": "https://localhost:8080/"
        },
        "id": "8WMQ5Ii7Ew-W",
        "outputId": "63eaaf35-0a3a-46b9-b8b0-b3263aca3734"
      },
      "execution_count": null,
      "outputs": [
        {
          "output_type": "stream",
          "name": "stdout",
          "text": [
            "0\n",
            "0\n"
          ]
        }
      ]
    },
    {
      "cell_type": "code",
      "source": [
        "# Preprocessing: Convert text data into numerical features using CountVectorizer\n",
        "vectorizer = CountVectorizer(stop_words='english')\n",
        "X_train_vectorized = vectorizer.fit_transform(X_train)\n",
        "X_test_vectorized = vectorizer.transform(X_test)\n",
        "\n",
        "# Build individual classifiers\n",
        "nb_classifier = MultinomialNB()\n",
        "lr_classifier = LogisticRegression(max_iter=1000)\n",
        "svm_classifier = SVC(kernel='linear', probability=True)"
      ],
      "metadata": {
        "id": "JKHSkqQUD3-s"
      },
      "execution_count": null,
      "outputs": []
    },
    {
      "cell_type": "code",
      "source": [
        "# Create ensemble classifier using voting mechanism\n",
        "ensemble_classifier = VotingClassifier(estimators=[('nb', nb_classifier), ('lr', lr_classifier), ('svm', svm_classifier)], voting='soft')"
      ],
      "metadata": {
        "id": "YAob2VRjKroM"
      },
      "execution_count": null,
      "outputs": []
    },
    {
      "cell_type": "code",
      "source": [
        "# Train the ensemble classifier\n",
        "ensemble_classifier.fit(X_train_vectorized, y_train)\n",
        "\n",
        "# Predict on the testing set\n",
        "y_pred = ensemble_classifier.predict(X_test_vectorized)\n",
        "\n",
        "# Calculate accuracy\n",
        "accuracy = accuracy_score(y_test, y_pred)\n",
        "print(\"Ensemble Accuracy:\", accuracy)"
      ],
      "metadata": {
        "id": "ixwPuRrVEqam"
      },
      "execution_count": null,
      "outputs": []
    },
    {
      "cell_type": "code",
      "source": [
        "# Import necessary libraries\n",
        "import numpy as np\n",
        "import pandas as pd\n",
        "from sklearn.model_selection import train_test_split\n",
        "from sklearn.feature_extraction.text import TfidfVectorizer\n",
        "from sklearn.ensemble import RandomForestClassifier, AdaBoostClassifier\n",
        "from sklearn.metrics import accuracy_score, confusion_matrix, classification_report\n",
        "from sklearn.naive_bayes import MultinomialNB\n",
        "from sklearn.tree import DecisionTreeClassifier\n",
        "from sklearn.svm import SVC\n",
        "from sklearn.ensemble import VotingClassifier\n",
        "from sklearn.linear_model import LogisticRegression\n",
        "\n",
        "# Load the IMDb dataset\n",
        "data = pd.read_csv(\"/content/Abnb_paris.csv\")\n",
        "\n",
        "# Data preprocessing\n",
        "# Implement data preprocessing steps such as removing stopwords, punctuation, and tokenization\n",
        "\n",
        "# Data preprocessing\n",
        "import string\n",
        "from nltk.corpus import stopwords\n",
        "from nltk.tokenize import word_tokenize\n",
        "import nltk\n",
        "nltk.download('stopwords')\n",
        "nltk.download('punkt')\n",
        "\n",
        "# Define stopwords and punctuation\n",
        "stop_words = set(stopwords.words('english'))\n",
        "punctuation = set(string.punctuation)\n",
        "\n",
        "# Function to preprocess text\n",
        "def preprocess_text(text):\n",
        "    # Tokenize text\n",
        "    tokens = word_tokenize(text)\n",
        "    # Convert to lowercase\n",
        "    tokens = [word.lower() for word in tokens]\n",
        "    # Remove punctuation\n",
        "    tokens = [word for word in tokens if word not in punctuation]\n",
        "    # Remove stopwords\n",
        "    tokens = [word for word in tokens if word not in stop_words]\n",
        "    # Join tokens back into text\n",
        "    preprocessed_text = ' '.join(tokens)\n",
        "    return preprocessed_text\n",
        "\n",
        "# Apply preprocessing to training and testing data\n",
        "X_train_preprocessed = X_train.apply(preprocess_text)\n",
        "X_test_preprocessed = X_test.apply(preprocess_text)"
      ],
      "metadata": {
        "colab": {
          "base_uri": "https://localhost:8080/"
        },
        "id": "vD4GyO9xCDFV",
        "outputId": "08e52694-37ac-4181-d803-82a84b2ee9c4"
      },
      "execution_count": null,
      "outputs": [
        {
          "output_type": "stream",
          "name": "stderr",
          "text": [
            "[nltk_data] Downloading package stopwords to /root/nltk_data...\n",
            "[nltk_data]   Unzipping corpora/stopwords.zip.\n",
            "[nltk_data] Downloading package punkt to /root/nltk_data...\n",
            "[nltk_data]   Unzipping tokenizers/punkt.zip.\n"
          ]
        }
      ]
    },
    {
      "cell_type": "code",
      "source": [
        "# Split the dataset into training and testing sets\n",
        "X_train, X_test, y_train, y_test = train_test_split(data['review_text'], data['sentiment'], test_size=0.2, random_state=42)\n",
        "\n",
        "# Feature extraction\n",
        "vectorizer = TfidfVectorizer()\n",
        "X_train_tfidf = vectorizer.fit_transform(X_train)\n",
        "X_test_tfidf = vectorizer.transform(X_test)\n",
        "\n",
        "from sklearn.feature_extraction.text import CountVectorizer\n",
        "# Initialize CountVectorizer\n",
        "vectorizer = CountVectorizer(stop_words='english')\n",
        "# Fit and transform the training data\n",
        "X_train_count = vectorizer.fit_transform(X_train)\n",
        "# Transform the test data\n",
        "X_test_count = vectorizer.transform(X_test)\n",
        "\n",
        "\n",
        "# Base models\n",
        "models = {\n",
        "    \"Naive Bayes\": MultinomialNB(),\n",
        "    \"Decision Tree\": DecisionTreeClassifier(),\n",
        "    \"SVM\": SVC(kernel='linear')\n",
        "}"
      ],
      "metadata": {
        "id": "JsnVNI6dGYmT"
      },
      "execution_count": null,
      "outputs": []
    },
    {
      "cell_type": "code",
      "source": [
        "threshold = 2.5  # Example threshold\n",
        "y_train_binary = (y_train > threshold).astype(int)\n",
        "y_test_binary = (y_test > threshold).astype(int)\n"
      ],
      "metadata": {
        "id": "2fYZKol1OLyT"
      },
      "execution_count": null,
      "outputs": []
    },
    {
      "cell_type": "code",
      "source": [
        "# Check for missing values in y_train\n",
        "print(\"Number of missing values in y_train:\", y_train.isnull().sum())\n",
        "\n",
        "# Drop rows with missing values in both X_train and y_train\n",
        "X_train = X_train[y_train.notnull()]\n",
        "y_train = y_train[y_train.notnull()]\n",
        "\n",
        "# Convert sentiment labels to categorical (0 or 1)\n",
        "y_train = y_train.map({'negative': 0, 'positive': 1})\n",
        "y_test = y_test.map({'negative': 0, 'positive': 1})\n",
        "\n",
        "# Check for missing values in y_train after dropping\n",
        "print(\"Number of missing values in y_train after dropping:\", y_train.isnull().sum())"
      ],
      "metadata": {
        "colab": {
          "base_uri": "https://localhost:8080/"
        },
        "id": "2Wn3pTBqG7Yo",
        "outputId": "b6e638ce-8f24-4811-fca3-afe877da3b4c"
      },
      "execution_count": null,
      "outputs": [
        {
          "output_type": "stream",
          "name": "stdout",
          "text": [
            "Number of missing values in y_train: 52\n",
            "Number of missing values in y_train after dropping: 0\n"
          ]
        }
      ]
    },
    {
      "cell_type": "code",
      "source": [
        "# Check for missing values in X_train_tfidf\n",
        "if X_train_tfidf.count_nonzero() == X_train_tfidf.shape[0] * X_train_tfidf.shape[1]:\n",
        "    print(\"No missing values in X_train_tfidf\")\n",
        "else:\n",
        "    print(\"Missing values in X_train_tfidf\")"
      ],
      "metadata": {
        "colab": {
          "base_uri": "https://localhost:8080/"
        },
        "id": "UCWj0fmAKBv3",
        "outputId": "24ed2f92-eb75-4a12-f7ad-c54e899aefb2"
      },
      "execution_count": null,
      "outputs": [
        {
          "output_type": "stream",
          "name": "stdout",
          "text": [
            "Missing values in X_train_tfidf\n"
          ]
        }
      ]
    },
    {
      "cell_type": "code",
      "source": [
        "# Check the unique values in y_train\n",
        "print(\"Unique values in y_train:\", y_train.unique())\n",
        "\n",
        "# Check the unique values in y_test\n",
        "print(\"Unique values in y_test:\", y_test.unique())\n"
      ],
      "metadata": {
        "colab": {
          "base_uri": "https://localhost:8080/"
        },
        "id": "uQYjGiSVMkTm",
        "outputId": "87ecb2f5-25e2-483a-d4f6-41477c7770f1"
      },
      "execution_count": null,
      "outputs": [
        {
          "output_type": "stream",
          "name": "stdout",
          "text": [
            "Unique values in y_train: [1.80923355 2.39445305 2.86432218 1.37776712 2.87083545 1.97480161\n",
            " 2.85275333 2.26192517 1.89230498 3.34305105 2.72133378 1.34869863\n",
            " 2.83147901 2.70336581 2.93217716 1.71889023 2.62106447 2.22085947\n",
            " 2.88200197 2.80891703 2.35589108 1.62364874 1.64676171 2.11803788\n",
            " 1.68841642 3.537711   1.7353747  2.77192785 2.21071222 2.32097614\n",
            " 2.86239447 1.87044299 2.245883   2.79762178 2.5091372  3.16416029\n",
            " 2.78691043 2.33736251 2.66436528 2.7602665  3.13709162 3.29043786\n",
            " 2.01875    1.64524983 2.33024976 1.96860461 2.01115924 2.12726667\n",
            " 1.83493536 3.10743708 4.14295728 1.74684573]\n",
            "Unique values in y_test: [2.87656332 2.91748921 3.20894318 2.68652556 1.97289466 2.11068997\n",
            " 1.38619579 2.33024976 1.37146725 1.4419243  1.76349671 1.72117282\n",
            " 0.81074132 2.41866416]\n"
          ]
        }
      ]
    },
    {
      "cell_type": "code",
      "source": [
        "# Convert continuous values to categorical labels\n",
        "y_train_categorical = pd.cut(y_train, bins=2, labels=[0, 1])\n",
        "y_test_categorical = pd.cut(y_test, bins=2, labels=[0, 1])\n"
      ],
      "metadata": {
        "id": "euJF74MUMnfU"
      },
      "execution_count": null,
      "outputs": []
    },
    {
      "cell_type": "code",
      "source": [
        "# Train base models\n",
        "for name, model in models.items():\n",
        "    model.fit(X_train_vectorized, y_train_binary)\n",
        "    y_pred = model.predict(X_test_vectorized)\n",
        "    accuracy = accuracy_score(y_test_binary, y_pred)\n",
        "    print(f\"{name} Accuracy: {accuracy}\")\n",
        "\n",
        "# Ensemble methods\n",
        "ensemble_models = [\n",
        "    (\"Random Forest\", RandomForestClassifier()),\n",
        "    (\"AdaBoost\", AdaBoostClassifier()),\n",
        "    (\"Voting Classifier\", VotingClassifier(estimators=[('nb', models['Naive Bayes']),\n",
        "                                                        ('dt', models['Decision Tree']),\n",
        "                                                        ('svm', models['SVM'])], voting='hard'))\n",
        "]\n",
        "\n",
        "# Train ensemble models\n",
        "for name, model in ensemble_models:\n",
        "    model.fit(X_train_vectorized, y_train_binary)\n",
        "    y_pred = model.predict(X_test_vectorized)\n",
        "    accuracy = accuracy_score(y_test_binary, y_pred)\n",
        "    print(f\"{name} Accuracy: {accuracy}\")\n",
        "    print(f\"{classification_report(y_test_binary, y_pred)}\")\n",
        "    print(f\"Confusion Matrix:\\n{confusion_matrix(y_test_binary, y_pred)}\\n\")"
      ],
      "metadata": {
        "colab": {
          "base_uri": "https://localhost:8080/"
        },
        "id": "BID9bbqxF5FU",
        "outputId": "a6965ecd-236e-46ed-ae5c-29718f6a9ed7"
      },
      "execution_count": null,
      "outputs": [
        {
          "output_type": "stream",
          "name": "stdout",
          "text": [
            "Naive Bayes Accuracy: 0.7142857142857143\n",
            "Decision Tree Accuracy: 0.7142857142857143\n",
            "SVM Accuracy: 1.0\n",
            "Random Forest Accuracy: 0.8571428571428571\n",
            "              precision    recall  f1-score   support\n",
            "\n",
            "           0       0.90      0.90      0.90        10\n",
            "           1       0.75      0.75      0.75         4\n",
            "\n",
            "    accuracy                           0.86        14\n",
            "   macro avg       0.82      0.82      0.82        14\n",
            "weighted avg       0.86      0.86      0.86        14\n",
            "\n",
            "Confusion Matrix:\n",
            "[[9 1]\n",
            " [1 3]]\n",
            "\n",
            "AdaBoost Accuracy: 0.9285714285714286\n",
            "              precision    recall  f1-score   support\n",
            "\n",
            "           0       1.00      0.90      0.95        10\n",
            "           1       0.80      1.00      0.89         4\n",
            "\n",
            "    accuracy                           0.93        14\n",
            "   macro avg       0.90      0.95      0.92        14\n",
            "weighted avg       0.94      0.93      0.93        14\n",
            "\n",
            "Confusion Matrix:\n",
            "[[9 1]\n",
            " [0 4]]\n",
            "\n",
            "Voting Classifier Accuracy: 0.8571428571428571\n",
            "              precision    recall  f1-score   support\n",
            "\n",
            "           0       1.00      0.80      0.89        10\n",
            "           1       0.67      1.00      0.80         4\n",
            "\n",
            "    accuracy                           0.86        14\n",
            "   macro avg       0.83      0.90      0.84        14\n",
            "weighted avg       0.90      0.86      0.86        14\n",
            "\n",
            "Confusion Matrix:\n",
            "[[8 2]\n",
            " [0 4]]\n",
            "\n"
          ]
        }
      ]
    },
    {
      "cell_type": "code",
      "source": [
        "# Visualization (optional)\n",
        "# Implement code to visualize performance metrics\n",
        "\n",
        "import matplotlib.pyplot as plt\n",
        "base_model_names = list(models.keys())\n",
        "base_model_accuracies = [accuracy_score(y_test_binary, model.predict(X_test_vectorized)) for name, model in models.items()]\n",
        "\n",
        "ensemble_model_names = [name for name, _ in ensemble_models]\n",
        "ensemble_model_accuracies = [accuracy_score(y_test_binary, model.predict(X_test_vectorized)) for name, model in ensemble_models]\n",
        "\n",
        "all_model_names = base_model_names + ensemble_model_names\n",
        "all_model_accuracies = base_model_accuracies + ensemble_model_accuracies\n",
        "\n",
        "plt.figure(figsize=(10, 6))\n",
        "plt.bar(all_model_names, all_model_accuracies, color=['blue' for _ in range(len(base_model_names))] + ['orange' for _ in range(len(ensemble_model_names))])\n",
        "plt.title('Model Accuracies')\n",
        "plt.xlabel('Model')\n",
        "plt.ylabel('Accuracy')\n",
        "plt.xticks(rotation=45, ha='right')\n",
        "plt.ylim(0, 1)\n",
        "plt.tight_layout()\n",
        "plt.show()"
      ],
      "metadata": {
        "colab": {
          "base_uri": "https://localhost:8080/",
          "height": 607
        },
        "id": "76LR6z-_Jtjn",
        "outputId": "2000ad0f-d2cf-45b3-ce94-d95b10bc5dd3"
      },
      "execution_count": null,
      "outputs": [
        {
          "output_type": "display_data",
          "data": {
            "text/plain": [
              "<Figure size 1000x600 with 1 Axes>"
            ],
            "image/png": "[encoded data removed]"
          },
          "metadata": {}
        }
      ]
    },
    {
      "cell_type": "markdown",
      "source": [
        "The goal of Airbnb’s marketing team in this exercise was to improve its users’ performance so it\n",
        "could reap the benefits of ongoing host and renter fees. If the company’s hosts were not happy,\n",
        "they were not likely to continue listing their properties through Airbnb, and in a competitive and\n",
        "burgeoning marketplace, such attrition could be devastating.\n",
        "\n",
        "**Answer the following question:**\n",
        "\n",
        "**1.What could the Airbnb marketing team offer to improve its users’ experience? Should it\n",
        "rank properties it suggested to users based on some metric such as review sentiment? How would review sentiment compare to summary-rating value in terms of its ability to\n",
        "predict revenues?**\n",
        "\n",
        "To improve its users' experience, the Airbnb marketing team could offer several strategies like Ranking Properties Based on Review Sentiment. Ranking properties suggested to users based on metrics such as review sentiment could enhance user satisfaction. Positive reviews are likely to indicate a better experience for previous guests, which could lead to higher satisfaction for future guests. However, it's essential to consider the overall sentiment of reviews, including both positive and negative sentiments, to provide a balanced view. another could be the Comparison of Review Sentiment and Summary-Rating Value. Review sentiment could provide additional insights beyond summary-rating value in predicting revenues. Analyzing sentiment can help identify specific strengths and weaknesses of properties, allowing Airbnb to tailor recommendations and address potential areas for improvement.\n",
        "\n",
        "**2. Given what we know about the performance of properties in Miami and Paris, did Airbnb\n",
        "need a region-specific strategy? Could the company suggest optimal pricing for hosts, or\n",
        "suggest other ways hosts could improve overall earnings?\n",
        "Make sure to back up your claims with statistical results and plots shown in your code.**\n",
        "\n",
        "Region-Specific Strategy:\n",
        "Considering the performance of properties in Miami and Paris, Airbnb could benefit from a region-specific strategy to optimize user experience and host earnings like Optimal Pricing Suggestions: Airbnb could suggest optimal pricing for hosts based on market demand, property features, and historical booking data specific to each region. By analyzing pricing trends and demand patterns in Miami and Paris, Airbnb can provide personalized pricing recommendations to hosts, helping them maximize their earnings while remaining competitive in their respective markets. Or Recommendations for Improving Overall Earnings: In addition to pricing suggestions, Airbnb could offer recommendations for hosts to improve overall earnings. This could include suggestions for enhancing property amenities, optimizing listing descriptions, and implementing guest feedback to address areas for improvement."
      ],
      "metadata": {
        "id": "OmjqkI19PDBS"
      }
    }
  ]
}